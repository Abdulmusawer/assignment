{
 "cells": [
  {
   "cell_type": "code",
   "execution_count": 7,
   "metadata": {},
   "outputs": [
    {
     "name": "stdout",
     "output_type": "stream",
     "text": [
      "Twinkle, twinkle, little star,\n",
      "      How I wonder what you are!\n",
      "            Up above the world so high,\n",
      "            Like a diamond in the sky.\n",
      "Twinkle, twinkle, little star,\n",
      "      How I wonder what you are!\n"
     ]
    }
   ],
   "source": [
    "#sir IDE problem kraha hy kbhi kbhi code run nahi krta coding\n",
    "#thek hy meri but code run nahi hota\n",
    "\n",
    "#Question No#1 Write a Python program to print the following string in a specific format\n",
    "azr = \"Twinkle, twinkle, little star,\"\n",
    "print(azr)\n",
    "bar = \"      How I wonder what you are!\"\n",
    "print(bar)\n",
    "zar = \"            Up above the world so high,\"\n",
    "print(zar)\n",
    "q1 = \"            Like a diamond in the sky.\"\n",
    "print(q1)\n",
    "lif = \"Twinkle, twinkle, little star,\"\n",
    "print(lif)\n",
    "zeo = \"      How I wonder what you are!\"\n",
    "print(zeo)"
   ]
  },
  {
   "cell_type": "code",
   "execution_count": 8,
   "metadata": {},
   "outputs": [
    {
     "name": "stdout",
     "output_type": "stream",
     "text": [
      "3.7.4 (default, Aug  9 2019, 18:34:13) [MSC v.1915 64 bit (AMD64)]\n"
     ]
    }
   ],
   "source": [
    "#Question No#2 Write a Python program to get the Python version you are using\n",
    "import sys\n",
    "print(sys.version)\n"
   ]
  },
  {
   "cell_type": "code",
   "execution_count": 3,
   "metadata": {},
   "outputs": [
    {
     "name": "stdout",
     "output_type": "stream",
     "text": [
      "Date   : Nov,3,2019\n",
      "Time   : 1:40pm\n"
     ]
    }
   ],
   "source": [
    "#Question No#3 Write a Python program to display the current date and time.\n",
    "date = \"Date   : Nov,3,2019\"\n",
    "print(date)\n",
    "time = \"Time   : 1:40pm\"\n",
    "print(time)"
   ]
  },
  {
   "cell_type": "code",
   "execution_count": 10,
   "metadata": {},
   "outputs": [
    {
     "name": "stdout",
     "output_type": "stream",
     "text": [
      "Enter your Radius to calculate the area :5\n",
      "78.5\n"
     ]
    }
   ],
   "source": [
    "#Question No#4 Write a Python program which accepts the radius of a circle from the user\n",
    "#and compute the area.\n",
    "i = int(input(\"Enter your Radius to calculate the area :\"))\n",
    "q = 2\n",
    "e = i ** q\n",
    "w = float(3.14)\n",
    "print(w * e)"
   ]
  },
  {
   "cell_type": "code",
   "execution_count": null,
   "metadata": {},
   "outputs": [],
   "source": [
    "#Question No#5 Write a Python program which accepts the user's first and last name and\n",
    "#print them in reverse order with a space between them.\n",
    "first_name = input(\"First Name :\")\n",
    "last_name = input(\"Last Name :\")\n",
    "print(last_name + \" \" + first_name)\n",
    "#Sir ye IDE masla kraha hy ap code copy kr ky new notebook pe run kren. "
   ]
  },
  {
   "cell_type": "code",
   "execution_count": null,
   "metadata": {},
   "outputs": [],
   "source": [
    "#Question No#6 Write a python program which takes two inputs from user and print them\n",
    "#addition\n",
    "one = int(input(\"Any Number :\"))\n",
    "zero = int(input(\"Enter Number to add both number :\"))\n",
    "final = one + zero\n",
    "print(final)\n",
    "#Sir ye IDE masla kraha hy ap code copy kr ky new notebook pe run kren. "
   ]
  },
  {
   "cell_type": "code",
   "execution_count": null,
   "metadata": {},
   "outputs": [],
   "source": []
  },
  {
   "cell_type": "code",
   "execution_count": null,
   "metadata": {},
   "outputs": [],
   "source": []
  },
  {
   "cell_type": "code",
   "execution_count": null,
   "metadata": {},
   "outputs": [],
   "source": []
  }
 ],
 "metadata": {
  "kernelspec": {
   "display_name": "Python 3",
   "language": "python",
   "name": "python3"
  },
  "language_info": {
   "codemirror_mode": {
    "name": "ipython",
    "version": 3
   },
   "file_extension": ".py",
   "mimetype": "text/x-python",
   "name": "python",
   "nbconvert_exporter": "python",
   "pygments_lexer": "ipython3",
   "version": "3.7.4"
  }
 },
 "nbformat": 4,
 "nbformat_minor": 2
}
